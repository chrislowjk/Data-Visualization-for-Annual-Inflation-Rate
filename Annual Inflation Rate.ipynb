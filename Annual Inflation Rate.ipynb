{
 "cells": [
  {
   "cell_type": "code",
   "execution_count": 186,
   "metadata": {},
   "outputs": [],
   "source": [
    "import pandas as pd\n",
    "import numpy as np\n",
    "import plotly.express as px\n",
    "\n",
    "cpi = pd.read_csv('CPI.csv',skiprows=4)\n",
    "cpi_t = cpi.set_index(' Variables ').T\n",
    "df = cpi_t.rename(columns=lambda x: x.strip())\n",
    "\n",
    "df_sub = df[[\"All Items\", \"Food\", \"Transport\", \"Health Care\", \n",
    "           \"Alcoholic Drinks & Tobacco\", \"Education\", \"Clothing & Footwear\", \n",
    "             \"Housing & Utilities\"]]\n",
    "df_sub = df_sub.replace(' na ', np.nan)\n",
    "df_sub = df_sub.apply(pd.to_numeric, errors='ignore')\n",
    "\n",
    "inflation = df_sub.pct_change() * 100\n",
    "inflation = inflation.reset_index()\n",
    "inflation = inflation.rename(columns={'index': 'Year'}).rename_axis(None, axis=1)\n",
    "\n",
    "fig = px.line(inflation, x=\"Year\", y=inflation.columns, title=\"Annual Inflation Rate\",\n",
    "             labels={\"value\": \"Percentage\"})\n",
    "\n",
    "fig.update_traces(mode=\"markers+lines\", hovertemplate=None)\n",
    "\n",
    "fig.update_layout(hovermode=\"x\",\n",
    "                 legend_title=\"Categories\")\n",
    "\n",
    "fig.update_layout(\n",
    "    title={\n",
    "        'y':0.9,\n",
    "        'x':0.5,\n",
    "        'xanchor': 'center',\n",
    "        'yanchor': 'top'},\n",
    "    font=dict(\n",
    "        size=12,\n",
    "        color=\"grey\"\n",
    "    ))\n",
    "\n",
    "fig.show()"
   ]
  }
 ],
 "metadata": {
  "kernelspec": {
   "display_name": "Python 3",
   "language": "python",
   "name": "python3"
  },
  "language_info": {
   "codemirror_mode": {
    "name": "ipython",
    "version": 3
   },
   "file_extension": ".py",
   "mimetype": "text/x-python",
   "name": "python",
   "nbconvert_exporter": "python",
   "pygments_lexer": "ipython3",
   "version": "3.7.3"
  }
 },
 "nbformat": 4,
 "nbformat_minor": 2
}
